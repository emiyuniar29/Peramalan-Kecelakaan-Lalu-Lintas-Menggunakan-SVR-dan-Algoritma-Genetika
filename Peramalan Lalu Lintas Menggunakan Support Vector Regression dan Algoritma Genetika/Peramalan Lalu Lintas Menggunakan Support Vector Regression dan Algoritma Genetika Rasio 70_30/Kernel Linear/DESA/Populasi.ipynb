{
 "cells": [
  {
   "cell_type": "code",
   "execution_count": 1,
   "id": "dbb6692d-757f-45d5-bc74-e75a787af5ac",
   "metadata": {},
   "outputs": [],
   "source": [
    "import random\n",
    "import numpy as np\n",
    "import pandas as pd\n",
    "import matplotlib.pyplot as plt\n",
    "from sklearn.preprocessing import MinMaxScaler\n",
    "from sklearn.svm import SVR\n",
    "from sklearn.metrics import mean_absolute_percentage_error\n",
    "from deap import base, creator, tools, algorithms"
   ]
  },
  {
   "cell_type": "code",
   "execution_count": 2,
   "id": "71b7f206-8b4d-43b8-bec2-04236ce9486e",
   "metadata": {},
   "outputs": [],
   "source": [
    "data = pd.read_csv('DATA_DESA.csv')\n",
    "\n",
    "df = pd.DataFrame(data)\n",
    "\n",
    "# Normalisasi MinMax\n",
    "scaler = MinMaxScaler()\n",
    "df['jumlah_kecelakaan'] = scaler.fit_transform(df[['jumlah_kecelakaan']])\n",
    "\n",
    "# Menambahkan kolom lag (pergeseran)\n",
    "df['jumlah_kecelakaan_lag'] = df['jumlah_kecelakaan'].shift(1)\n",
    "df = df.dropna() # Menghapus baris dengan nilai NaN"
   ]
  },
  {
   "cell_type": "code",
   "execution_count": 3,
   "id": "57d91698-0ec1-495a-b2c1-b4e7b1301634",
   "metadata": {},
   "outputs": [],
   "source": [
    "# Memisahkan data latih dan data uji sesuai rasio (0.8 untuk 80:20)\n",
    "train_size = int(0.7 * len(df))\n",
    "train_data = df.iloc[:train_size]\n",
    "test_data = df.iloc[train_size:]\n",
    "\n",
    "# Memisahkan fitur dan target untuk data latih\n",
    "X_train = train_data['jumlah_kecelakaan_lag'].values.reshape(-1, 1)\n",
    "y_train = train_data['jumlah_kecelakaan'].values\n",
    "\n",
    "# Memisahkan fitur dan target untuk data uji\n",
    "X_test = test_data['jumlah_kecelakaan_lag'].values.reshape(-1, 1)\n",
    "y_test = test_data['jumlah_kecelakaan'].values"
   ]
  },
  {
   "cell_type": "code",
   "execution_count": 4,
   "id": "04009107-230d-48a2-95e6-3b2708419946",
   "metadata": {},
   "outputs": [],
   "source": [
    "# Define evaluation function\n",
    "def evaluate(individual):\n",
    "    C, epsilon = individual\n",
    "    if C <= 0 or epsilon <= 0:\n",
    "        return float('inf'),\n",
    "    svr = SVR(kernel='linear', C=C, epsilon=epsilon)\n",
    "    svr.fit(X_train, y_train)\n",
    "    y_pred = svr.predict(X_test)\n",
    "    mape = mean_absolute_percentage_error(y_test, y_pred) * 100\n",
    "    return mape,\n",
    "    \n",
    "# Setup DEAP framework\n",
    "creator.create(\"FitnessMin\", base.Fitness, weights=(-1.0,))\n",
    "creator.create(\"Individual\", list, fitness=creator.FitnessMin)\n",
    "\n",
    "toolbox = base.Toolbox()\n",
    "\n",
    "# Parameter ranges\n",
    "C_range = (0.0001, 50)\n",
    "epsilon_range = (1e-07, 5)\n",
    "\n",
    "def create_individual():\n",
    "    C = random.uniform(*C_range)\n",
    "    epsilon = random.uniform(*epsilon_range)\n",
    "    return creator.Individual([C, epsilon])\n",
    "    \n",
    "toolbox.register(\"individual\", create_individual)\n",
    "toolbox.register(\"population\", tools.initRepeat, list, toolbox.individual)\n",
    "\n",
    "toolbox.register(\"mate\", tools.cxUniform, indpb=0.5)  # Menggunakan crossover uniform \n",
    "toolbox.register(\"mutate\", tools.mutGaussian, mu=0, sigma=1, indpb=0.2) # Menggunakan mutasi gaussian\n",
    "toolbox.register(\"select\", tools.selTournament, tournsize=3) # Menggunakan seleksi turnamen\n",
    "toolbox.register(\"evaluate\", evaluate)"
   ]
  },
  {
   "cell_type": "code",
   "execution_count": 5,
   "id": "7c6131a3-d41b-41bd-b232-db04e6faf228",
   "metadata": {},
   "outputs": [
    {
     "name": "stdout",
     "output_type": "stream",
     "text": [
      "populasi 20: 46.2260\n",
      "populasi 40: 46.0840\n",
      "populasi 60: 46.1798\n",
      "populasi 80: 45.9537\n",
      "populasi 100: 45.9101\n",
      "populasi 120: 45.7756\n",
      "populasi 140: 45.9813\n",
      "populasi 160: 45.7139\n",
      "populasi 180: 45.7450\n",
      "populasi 200: 45.7702\n",
      "populasi 220: 45.7324\n",
      "populasi 240: 45.7913\n",
      "populasi 260: 45.7291\n",
      "populasi 280: 45.9568\n",
      "populasi 300: 45.7614\n",
      "\n",
      "Ukuran populasi optimal: 160\n",
      "MAPE terbaik: 45.7139\n",
      "[3.097697906521757, 0.31074415094098184]\n"
     ]
    },
    {
     "data": {
      "image/png": "[encoded data removed]",
      "text/plain": [
       "<Figure size 640x480 with 1 Axes>"
      ]
     },
     "metadata": {},
     "output_type": "display_data"
    }
   ],
   "source": [
    "def main():\n",
    "    population_sizes = [20, 40, 60, 80, 100, 120, 140, 160, 180, 200, 220, 240, 260, 280, 300]\n",
    "    crossover_rate = 0.5\n",
    "    mutation_rate = 0.2\n",
    "    num_generations = 50\n",
    "    \n",
    "    best_population_size = None\n",
    "    best_mape = float('inf')\n",
    "    \n",
    "    results = []\n",
    "\n",
    "    for population_size in population_sizes:\n",
    "        population = toolbox.population(n=population_size)\n",
    "\n",
    "        for generation in range(num_generations):\n",
    "            offspring = algorithms.varAnd(population, toolbox, cxpb=crossover_rate, mutpb=mutation_rate)\n",
    "            for ind in offspring:\n",
    "                ind[0] = max(min(ind[0], C_range[1]), C_range[0])\n",
    "                ind[1] = max(min(ind[1], epsilon_range[1]), epsilon_range[0])\n",
    "            \n",
    "            fits = toolbox.map(toolbox.evaluate, offspring)\n",
    "            for fit, ind in zip(fits, offspring):\n",
    "                ind.fitness.values = fit\n",
    "\n",
    "            population = toolbox.select(offspring, k=len(population))\n",
    "\n",
    "        best_individual = tools.selBest(population, k=1)[0]\n",
    "        mape = best_individual.fitness.values[0]\n",
    "\n",
    "        results.append((population_size, best_mape))\n",
    "        print(f\"populasi {population_size}: {mape:.4f}\")\n",
    "\n",
    "        if mape < best_mape:\n",
    "            best_mape = mape\n",
    "            best_population_size = population_size\n",
    "\n",
    "    print(f\"\\nUkuran populasi optimal: {best_population_size}\")\n",
    "    print(f\"MAPE terbaik: {best_mape:.4f}\")\n",
    "    print(best_individual)\n",
    "\n",
    "    # Plot hasil setiap iterasi dan nilai MAPE-nya\n",
    "    population_size, best_population_mape = zip(*results)\n",
    "    plt.plot(population_size, best_population_mape, marker='o')\n",
    "    plt.xlabel(\"Jumlah Populasi\")\n",
    "    plt.ylabel(\"MAPE\")\n",
    "    plt.title(\"MAPE vs Jumlah Populasi\")\n",
    "    plt.grid(True)\n",
    "    plt.show()\n",
    "\n",
    "if __name__ == \"__main__\":\n",
    "    main()"
   ]
  },
  {
   "cell_type": "code",
   "execution_count": null,
   "id": "9a5c4bc1-2c28-4a89-8545-06817329e763",
   "metadata": {},
   "outputs": [],
   "source": []
  }
 ],
 "metadata": {
  "kernelspec": {
   "display_name": "Python 3 (ipykernel)",
   "language": "python",
   "name": "python3"
  },
  "language_info": {
   "codemirror_mode": {
    "name": "ipython",
    "version": 3
   },
   "file_extension": ".py",
   "mimetype": "text/x-python",
   "name": "python",
   "nbconvert_exporter": "python",
   "pygments_lexer": "ipython3",
   "version": "3.12.3"
  }
 },
 "nbformat": 4,
 "nbformat_minor": 5
}
